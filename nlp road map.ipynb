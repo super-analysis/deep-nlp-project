{
 "cells": [
  {
   "cell_type": "markdown",
   "id": "a48af6cf",
   "metadata": {},
   "source": [
    "# 1-data aquisition"
   ]
  },
  {
   "cell_type": "raw",
   "id": "38e32efd",
   "metadata": {},
   "source": [
    "1-web scrapping\n",
    "2-data engineer\n",
    "3-by api"
   ]
  },
  {
   "cell_type": "markdown",
   "id": "302117ed",
   "metadata": {},
   "source": [
    "# 2-text preprocessing"
   ]
  },
  {
   "cell_type": "raw",
   "id": "592857e3",
   "metadata": {},
   "source": [
    "1-basic preprocessing\n",
    "2-advanced preprocessing"
   ]
  },
  {
   "cell_type": "markdown",
   "id": "45584b5f",
   "metadata": {},
   "source": [
    "# basic preprocessing"
   ]
  },
  {
   "cell_type": "raw",
   "id": "f46cc920",
   "metadata": {},
   "source": [
    "1-convert text lower case\n",
    "2-removed html tag by regexp\n",
    "3-removed emoji by unicode\n",
    "4-spelling correction\n",
    "5-remove punctuation\n",
    "6-short word convert full word\n",
    "7-remove stopwords\n",
    "8-tikenization\n",
    "8-stemming\n",
    "9-lemmatizing"
   ]
  },
  {
   "cell_type": "markdown",
   "id": "c17161cd",
   "metadata": {},
   "source": [
    "# advanced preprocessing"
   ]
  },
  {
   "cell_type": "raw",
   "id": "5494cb38",
   "metadata": {},
   "source": [
    "1-pos tagger use or part of speech\n",
    "2-parsing\n",
    "3-corefrence resolution"
   ]
  },
  {
   "cell_type": "markdown",
   "id": "41b3a6e6",
   "metadata": {},
   "source": [
    "# 3-feature extraction or feature engineering"
   ]
  },
  {
   "cell_type": "raw",
   "id": "52aa775b",
   "metadata": {},
   "source": [
    "1-machine learning algo use\n",
    "2-deep learning algo use"
   ]
  },
  {
   "cell_type": "markdown",
   "id": "86456dc7",
   "metadata": {},
   "source": [
    "# machiner learning algo use"
   ]
  },
  {
   "cell_type": "markdown",
   "id": "6d657db2",
   "metadata": {},
   "source": [
    "convert text into vector"
   ]
  },
  {
   "cell_type": "raw",
   "id": "019ba3b1",
   "metadata": {},
   "source": [
    "1-one hot encoading\n",
    "2-bag of words\n",
    "3-bag of n grams\n",
    "4-tf-idf"
   ]
  },
  {
   "cell_type": "markdown",
   "id": "480da286",
   "metadata": {},
   "source": [
    "# deep learning algo use"
   ]
  },
  {
   "cell_type": "markdown",
   "id": "3c57031d",
   "metadata": {},
   "source": [
    " convert test into vector"
   ]
  },
  {
   "cell_type": "raw",
   "id": "ef0e4b18",
   "metadata": {},
   "source": [
    "1-word embedding\n",
    "2-word2vec"
   ]
  },
  {
   "cell_type": "markdown",
   "id": "cb83f999",
   "metadata": {},
   "source": [
    "# 4-modelling"
   ]
  },
  {
   "cell_type": "raw",
   "id": "1c934bf7",
   "metadata": {},
   "source": [
    "1-ml\n",
    "2-dl"
   ]
  },
  {
   "cell_type": "markdown",
   "id": "29ada016",
   "metadata": {},
   "source": [
    "# ml"
   ]
  },
  {
   "cell_type": "raw",
   "id": "6c4214c8",
   "metadata": {},
   "source": [
    "1-random forest algo with hypertunnig\n",
    "2-naive bais\n",
    "3-other"
   ]
  },
  {
   "cell_type": "markdown",
   "id": "12a703d3",
   "metadata": {},
   "source": [
    "# dl"
   ]
  },
  {
   "cell_type": "raw",
   "id": "1c1aa015",
   "metadata": {},
   "source": [
    "1-Rnn\n",
    "2-Lstm\n",
    "3-cnn"
   ]
  },
  {
   "cell_type": "markdown",
   "id": "ba9a9a38",
   "metadata": {},
   "source": [
    "# 5-deployment"
   ]
  },
  {
   "cell_type": "code",
   "execution_count": null,
   "id": "9531474e",
   "metadata": {},
   "outputs": [],
   "source": [
    "1-deplo"
   ]
  }
 ],
 "metadata": {
  "kernelspec": {
   "display_name": "Python 3 (ipykernel)",
   "language": "python",
   "name": "python3"
  },
  "language_info": {
   "codemirror_mode": {
    "name": "ipython",
    "version": 3
   },
   "file_extension": ".py",
   "mimetype": "text/x-python",
   "name": "python",
   "nbconvert_exporter": "python",
   "pygments_lexer": "ipython3",
   "version": "3.9.12"
  }
 },
 "nbformat": 4,
 "nbformat_minor": 5
}
